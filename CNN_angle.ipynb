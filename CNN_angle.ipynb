{
  "nbformat": 4,
  "nbformat_minor": 0,
  "metadata": {
    "colab": {
      "provenance": []
    },
    "kernelspec": {
      "name": "python3",
      "display_name": "Python 3"
    },
    "language_info": {
      "name": "python"
    }
  },
  "cells": [
    {
      "cell_type": "code",
      "execution_count": null,
      "metadata": {
        "id": "BjU0qVSeFZDP"
      },
      "outputs": [],
      "source": [
        "import torch\n",
        "import torchvision\n",
        "import torchvision.transforms as transforms\n",
        "import numpy as np\n",
        "import os\n",
        "import matplotlib.pyplot as plt\n",
        "from torch.nn import Module\n",
        "from torch.nn import Conv2d\n",
        "from torch.nn import Linear\n",
        "from torch.nn import MaxPool2d\n",
        "from torch.nn import ReLU\n",
        "from torch.nn import LogSoftmax\n",
        "from torch import flatten\n",
        "from torchvision.datasets import ImageFolder\n",
        "from google.colab import drive\n",
        "from torchvision.transforms import ToTensor\n",
        "from torch.utils.data import Dataset\n",
        "from torchvision import datasets\n",
        "from sklearn.metrics import classification_report\n",
        "from torch.utils.data import random_split\n",
        "from torch.utils.data import DataLoader\n",
        "from torchvision.datasets import KMNIST\n",
        "from torch.optim import Adam\n",
        "from torch import nn\n",
        "import matplotlib.pyplot as plt\n",
        "import argparse\n",
        "import time\n",
        "import pandas as pd\n",
        "from torchsummary import summary"
      ]
    },
    {
      "cell_type": "code",
      "source": [
        "from torch.functional import Tensor\n",
        "%cd /content/drive/MyDrive/552_project\n",
        "data_dir='/content/drive/MyDrive/552_project/images'\n",
        "temp_data = datasets.ImageFolder(data_dir, transform= transforms.Compose([\n",
        "    transforms.Resize((150,150)),transforms.ToTensor()\n",
        "]))\n",
        "angles= pd.read_excel('/content/drive/MyDrive/552_project/angles.xlsx')\n",
        "angle_speed_data=[]\n",
        "for i in range(len(angles[0])):\n",
        "  if i!=len(angles[0])-1:\n",
        "    angle_speed_data.append([angles[0][i]])\n",
        "  else:\n",
        "    angle_speed_data.append([angles[0][i]])\n",
        "angle_speed_data=Tensor(angle_speed_data)\n",
        "\n",
        "data=[]\n",
        "count=0\n",
        "for x,y in temp_data:\n",
        "  if count==0:\n",
        "    print(x.size())\n",
        "    count+=1\n",
        "  else:\n",
        "    break\n",
        "for i in range(len(temp_data)):\n",
        "  data.append([temp_data[i][0],angle_speed_data[i]])\n",
        "\n",
        "\n",
        "\n",
        "\n"
      ],
      "metadata": {
        "colab": {
          "base_uri": "https://localhost:8080/"
        },
        "id": "j-ern8RTFchD",
        "outputId": "a6207a53-1056-4de2-86e2-d1622e3b30c9"
      },
      "execution_count": null,
      "outputs": [
        {
          "output_type": "stream",
          "name": "stdout",
          "text": [
            "/content/drive/MyDrive/552_project\n",
            "torch.Size([3, 150, 150])\n"
          ]
        }
      ]
    },
    {
      "cell_type": "code",
      "source": [
        "INIT_LR = 1e-3\n",
        "BATCH_SIZE = 16\n",
        "EPOCHS = 10\n",
        "device = torch.device(\"cuda\" if torch.cuda.is_available() else \"cpu\")\n",
        "train_size = int(0.7 * (len(data)-2))\n",
        "valid_size = int(0.1 * (len(data)-2))\n",
        "test_size = len(data) - train_size - valid_size-2\n",
        "train_dataset, test_dataset, valid_dataset = torch.utils.data.random_split(data[2:len(data)], [train_size, test_size, valid_size])\n",
        "trainDataLoader = DataLoader(train_dataset, shuffle=True,\n",
        "\tbatch_size=BATCH_SIZE)\n",
        "valDataLoader = DataLoader(valid_dataset, batch_size=BATCH_SIZE)\n",
        "testDataLoader = DataLoader(test_dataset, batch_size=BATCH_SIZE)\n",
        "# calculate steps per epoch for training and validation set\n",
        "trainSteps = len(trainDataLoader.dataset) // BATCH_SIZE\n",
        "valSteps = len(valDataLoader.dataset) // BATCH_SIZE"
      ],
      "metadata": {
        "id": "MBmtSRwALmAf"
      },
      "execution_count": null,
      "outputs": []
    },
    {
      "cell_type": "code",
      "source": [
        "class LeNet(Module):\n",
        "\tdef __init__(self, numChannels, regressors):\n",
        "\t\t# call the parent constructor\n",
        "\t\tsuper(LeNet, self).__init__()\n",
        "\t\t# initialize first set of CONV => RELU => POOL layers\n",
        "\t\tself.conv1 = Conv2d(in_channels=numChannels, out_channels=20,\n",
        "\t\t\tkernel_size=(5, 5))\n",
        "\t\tself.relu1 = ReLU()\n",
        "\t\tself.maxpool1 = MaxPool2d(kernel_size=(2, 2), stride=(2, 2))\n",
        "\t\t# initialize second set of CONV => RELU => POOL layers\n",
        "\t\tself.conv2 = Conv2d(in_channels=20, out_channels=50,\n",
        "\t\t\tkernel_size=(5, 5))\n",
        "\t\tself.relu2 = ReLU()\n",
        "\t\tself.maxpool2 = MaxPool2d(kernel_size=(4, 4), stride=(4, 4))\n",
        "\t\t# initialize first (and only) set of FC => RELU layers\n",
        "\t\tself.fc1 = Linear(in_features=800, out_features=500)\n",
        "\t\tself.relu3 = ReLU()\n",
        "\t\tself.fc2 = Linear(in_features=500, out_features=200)\n",
        "\t\tself.relu3 = ReLU()\n",
        "\t\t# initialize our softmax classifier\n",
        "\t\tself.fc3 = Linear(in_features=200, out_features=regressors)\n",
        "\t\t#self.logSoftmax = LogSoftmax(dim=1)\n",
        "\tdef forward(self, x):\n",
        "\t\t\t# pass the input through our first set of CONV => RELU =>\n",
        "\t\t\t# POOL layers\n",
        "\t\t\tx = self.conv1(x)\n",
        "\t\t\tx = self.relu1(x)\n",
        "\t\t\tx = self.maxpool1(x)\n",
        "\t\t\t#x = self.maxpool1(x)\n",
        "\t\t\t# pass the output from the previous layer through the second\n",
        "\t\t\t# set of CONV => RELU => POOL layers\n",
        "\t\t\tx = self.conv2(x)\n",
        "\t\t\tx = self.relu2(x)\n",
        "\t\t\t#x = self.maxpool2(x)\n",
        "\t\t\t#x = self.maxpool2(x)\n",
        "\t\t\tx = self.maxpool2(x)\n",
        "\t\t\tx = self.maxpool2(x)\n",
        "\t\t\t# flatten the output from the previous layer and pass it\n",
        "\t\t\t# through our only set of FC => RELU layers\n",
        "\t\t\tx = flatten(x, 1)\n",
        "\t\t\tx = self.fc1(x)\n",
        "\t\t\tx = self.relu3(x)\n",
        "\t\t\t# pass the output to our softmax classifier to get our output\n",
        "\t\t\t# predictions\n",
        "\t\t\tx = self.fc2(x)\n",
        "\t\t\tx = self.relu3(x)\n",
        "\t\t\tx = self.fc3(x)\n",
        "\t\t\toutput = x\n",
        "\t\t\treturn output"
      ],
      "metadata": {
        "id": "Oxd0mdV2Fx_C"
      },
      "execution_count": null,
      "outputs": []
    },
    {
      "cell_type": "code",
      "source": [],
      "metadata": {
        "id": "gFicr9S_Fyyt"
      },
      "execution_count": null,
      "outputs": []
    },
    {
      "cell_type": "code",
      "source": [
        "# initialize the LeNet model\n",
        "print(\"[INFO] initializing the LeNet model...\")\n",
        "model = LeNet(\n",
        "\tnumChannels=3,\n",
        "\tregressors=1).to(device)\n",
        "summary(model,(3,150,150))\n",
        "# initialize our optimizer and loss function\n",
        "opt = Adam(model.parameters(), lr=INIT_LR, weight_decay=1e-3)\n",
        "lossFn = nn.MSELoss()\n",
        "# initialize a dictionary to store training history\n",
        "H = {\n",
        "\t\"train_loss\": [],\n",
        "\t\"val_loss\": []\n",
        "}\n",
        "# measure how long training is going to take\n",
        "print(\"[INFO] training the network...\")\n",
        "startTime = time.time()"
      ],
      "metadata": {
        "id": "jVQ2OGNAF1JF",
        "colab": {
          "base_uri": "https://localhost:8080/"
        },
        "outputId": "3f871a81-ad40-4f9d-866a-1a982164a5ec"
      },
      "execution_count": null,
      "outputs": [
        {
          "output_type": "stream",
          "name": "stdout",
          "text": [
            "[INFO] initializing the LeNet model...\n",
            "----------------------------------------------------------------\n",
            "        Layer (type)               Output Shape         Param #\n",
            "================================================================\n",
            "            Conv2d-1         [-1, 20, 146, 146]           1,520\n",
            "              ReLU-2         [-1, 20, 146, 146]               0\n",
            "         MaxPool2d-3           [-1, 20, 73, 73]               0\n",
            "            Conv2d-4           [-1, 50, 69, 69]          25,050\n",
            "              ReLU-5           [-1, 50, 69, 69]               0\n",
            "         MaxPool2d-6           [-1, 50, 17, 17]               0\n",
            "         MaxPool2d-7             [-1, 50, 4, 4]               0\n",
            "            Linear-8                  [-1, 500]         400,500\n",
            "              ReLU-9                  [-1, 500]               0\n",
            "           Linear-10                  [-1, 200]         100,200\n",
            "             ReLU-11                  [-1, 200]               0\n",
            "           Linear-12                    [-1, 1]             201\n",
            "================================================================\n",
            "Total params: 527,471\n",
            "Trainable params: 527,471\n",
            "Non-trainable params: 0\n",
            "----------------------------------------------------------------\n",
            "Input size (MB): 0.26\n",
            "Forward/backward pass size (MB): 11.08\n",
            "Params size (MB): 2.01\n",
            "Estimated Total Size (MB): 13.35\n",
            "----------------------------------------------------------------\n",
            "[INFO] training the network...\n"
          ]
        }
      ]
    },
    {
      "cell_type": "markdown",
      "source": [
        "train"
      ],
      "metadata": {
        "id": "CWyTR5GU7QGT"
      }
    },
    {
      "cell_type": "code",
      "source": [
        "pred_two_frame = []\n",
        "H = {\n",
        "\t\t\"train_loss\": [],\n",
        "\t\t\"val_loss\": []\n",
        "\t}\n",
        "test_loss=[0 for i in range(5)]\n",
        "for run in range(5):\n",
        "\t# initialize the LeNet model\n",
        "\tprint(\"[INFO] initializing the LeNet model...\")\n",
        "\tmodel = LeNet(\n",
        "\t\tnumChannels=3,\n",
        "\t\tregressors=1).to(device)\n",
        "\t# initialize our optimizer and loss function\n",
        "\topt = Adam(model.parameters(), lr=INIT_LR, weight_decay=1e-2)\n",
        "\tlossFn = nn.MSELoss()\n",
        "\t# initialize a dictionary to store training history\n",
        "\t\n",
        "\t# measure how long training is going to take\n",
        "\tprint(\"[INFO] training the network...\")\n",
        "\tstartTime = time.time()\t\n",
        " \n",
        "\t# loop over our epochs\n",
        "\tfor e in range(0, EPOCHS):\n",
        "\t\t# set the model in training mode\n",
        "\t\tmodel.train()\n",
        "\t\t# initialize the total training and validation loss\n",
        "\t\ttotalTrainLoss = 0\n",
        "\t\ttotalValLoss = 0\n",
        "\t\t# loop over the training set\n",
        "\t\tfor (x, y) in trainDataLoader:\n",
        "\t\t\t# send the input to the device\n",
        "\t\t\t#(x, y) = (x.to(device), y.to(device))\n",
        "\t\t\t# perform a forward pass and calculate the training loss\n",
        "\t\t\tpred = model(x)\n",
        "\t\t\tloss = lossFn(pred, y)\n",
        "\t\t\t# zero out the gradients, perform the backpropagation step,\n",
        "\t\t\t# and update the weights\n",
        "\t\t\topt.zero_grad()\n",
        "\t\t\tloss.backward()\n",
        "\t\t\topt.step()\n",
        "\t\t\t# add the loss to the total training loss so far and\n",
        "\t\t\t# calculate the number of correct predictions\n",
        "\t\t\ttotalTrainLoss += loss\n",
        "\n",
        "\t\t# switch off autograd for evaluation\n",
        "\t\twith torch.no_grad():\n",
        "\t\t\t# set the model in evaluation mode\n",
        "\t\t\tmodel.eval()\n",
        "\t\t\t# loop over the validation set\n",
        "\t\t\tfor (x, y) in valDataLoader:\n",
        "\t\t\t\tpred=model(x)\n",
        "\t\t\t\t\t\t\t# send the input to the device\n",
        "\t\t\t\t\t\t\t#(x, y) = (x.to(device), y.to(device))\n",
        "\t\t\t\t\t\t\t# make the predictions and calculate the validation loss\n",
        "\t\t\t\t#print(pred2)\n",
        "\t\t\t\ttotalValLoss += lossFn(pred, y)\n",
        "\n",
        "\t\t# calculate the average training and validation loss\n",
        "\t\tavgTrainLoss = totalTrainLoss / trainSteps\n",
        "\t\tavgValLoss = totalValLoss / valSteps\n",
        "\t\t# update our training history\n",
        "\t\tif len(H[\"train_loss\"])!=EPOCHS:\n",
        "\t\t\tH[\"train_loss\"].append([avgTrainLoss.cpu().detach().numpy()])\n",
        "\t\t\tH[\"val_loss\"].append([avgValLoss.cpu().detach().numpy()])\n",
        "\t\telse:\n",
        "\t\t\tH[\"train_loss\"][e].append(avgTrainLoss.cpu().detach().numpy())\n",
        "\t\t\tH[\"val_loss\"][e].append(avgValLoss.cpu().detach().numpy())\n",
        "\t\t# print the model training and validation information\n",
        "\t\tprint(\"[INFO] EPOCH: {}/{}\".format(e + 1, EPOCHS))\n",
        "\t\tprint(\"Train loss: {:.6f}\".format(\n",
        "\t\t\tavgTrainLoss))\n",
        "\t\tprint(\"Val loss: {:.6f}\\n\".format(\n",
        "\t\t\tavgValLoss))\n",
        "\t\n",
        "\t# finish measuring how long training took\n",
        "\tendTime = time.time()\n",
        "\tprint(\"[INFO] total time taken to train the model: {:.2f}s\".format(\n",
        "\t\tendTime - startTime))\n",
        "\t# we can now evaluate the network on the test set\n",
        "\tprint(\"[INFO] evaluating network...\")\n",
        "\t# turn off autograd for testing evaluation\n",
        "\twith torch.no_grad():\n",
        "\t\t# set the model in evaluation mode\n",
        "\t\tmodel.eval()\n",
        "\t\t\n",
        "\t\t# initialize a list to store our predictions\n",
        "\t\tpreds = []\n",
        "\t\t# loop over the test set\n",
        "\t\ttotalTestLoss=0\n",
        "\t\tfor (x, y) in testDataLoader:\n",
        "\t\t\t# send the input to the device\n",
        "\t\t\t#x = x.to(device)\n",
        "\t\t\t# make the predictions and add them to the list\n",
        "\t\t\tpred = model(x)\n",
        "\t\t\tpreds.extend(pred)\n",
        "\t\t\ttotalTestLoss += lossFn(pred, y)\n",
        "\t\t\n",
        "\t\ttotalTestLoss=totalTestLoss/len(testDataLoader)\n",
        "\t\ttest_loss[run]=totalTestLoss\n",
        "\t \n",
        "\ttwo_frames=DataLoader(data[0:2], batch_size=BATCH_SIZE)\n",
        "\t\n",
        "\twith torch.no_grad():\n",
        "\t\t# set the model in evaluation mode\n",
        "\t\tmodel.eval()\n",
        "\t\t\n",
        "\t\t# initialize a list to store our predictions\n",
        "\t\t\n",
        "\t\t# loop over the test set\n",
        "\t\tfor (x,y) in two_frames:\n",
        "\t\t\t# send the input to the device\n",
        "\t\t\t#x = x.to(device)\n",
        "\t\t\t# make the predictions and add them to the list\n",
        "\t\t\tpred = model(x)\n",
        "\t\t\tpred_two_frame.extend(pred)\n"
      ],
      "metadata": {
        "colab": {
          "base_uri": "https://localhost:8080/",
          "height": 763
        },
        "id": "4di6kPO27RPC",
        "outputId": "2fea4b22-6adb-43e9-fd58-26aa3bb83673"
      },
      "execution_count": null,
      "outputs": [
        {
          "output_type": "stream",
          "name": "stdout",
          "text": [
            "[INFO] initializing the LeNet model...\n",
            "[INFO] training the network...\n",
            "[INFO] EPOCH: 1/10\n",
            "Train loss: 81.476158\n",
            "Val loss: 23.897768\n",
            "\n",
            "[INFO] EPOCH: 2/10\n",
            "Train loss: 12.078143\n",
            "Val loss: 8.562062\n",
            "\n",
            "[INFO] EPOCH: 3/10\n",
            "Train loss: 4.186452\n",
            "Val loss: 4.701310\n",
            "\n",
            "[INFO] EPOCH: 4/10\n",
            "Train loss: 2.229244\n",
            "Val loss: 1.039547\n",
            "\n",
            "[INFO] EPOCH: 5/10\n",
            "Train loss: 0.687693\n",
            "Val loss: 0.558098\n",
            "\n"
          ]
        },
        {
          "output_type": "error",
          "ename": "KeyboardInterrupt",
          "evalue": "ignored",
          "traceback": [
            "\u001b[0;31m---------------------------------------------------------------------------\u001b[0m",
            "\u001b[0;31mKeyboardInterrupt\u001b[0m                         Traceback (most recent call last)",
            "\u001b[0;32m<ipython-input-10-db57687ac26a>\u001b[0m in \u001b[0;36m<module>\u001b[0;34m()\u001b[0m\n\u001b[1;32m     32\u001b[0m                         \u001b[0;31m#(x, y) = (x.to(device), y.to(device))\u001b[0m\u001b[0;34m\u001b[0m\u001b[0;34m\u001b[0m\u001b[0;34m\u001b[0m\u001b[0m\n\u001b[1;32m     33\u001b[0m                         \u001b[0;31m# perform a forward pass and calculate the training loss\u001b[0m\u001b[0;34m\u001b[0m\u001b[0;34m\u001b[0m\u001b[0;34m\u001b[0m\u001b[0m\n\u001b[0;32m---> 34\u001b[0;31m                         \u001b[0mpred\u001b[0m \u001b[0;34m=\u001b[0m \u001b[0mmodel\u001b[0m\u001b[0;34m(\u001b[0m\u001b[0mx\u001b[0m\u001b[0;34m)\u001b[0m\u001b[0;34m\u001b[0m\u001b[0;34m\u001b[0m\u001b[0m\n\u001b[0m\u001b[1;32m     35\u001b[0m                         \u001b[0mloss\u001b[0m \u001b[0;34m=\u001b[0m \u001b[0mlossFn\u001b[0m\u001b[0;34m(\u001b[0m\u001b[0mpred\u001b[0m\u001b[0;34m,\u001b[0m \u001b[0my\u001b[0m\u001b[0;34m)\u001b[0m\u001b[0;34m\u001b[0m\u001b[0;34m\u001b[0m\u001b[0m\n\u001b[1;32m     36\u001b[0m                         \u001b[0;31m# zero out the gradients, perform the backpropagation step,\u001b[0m\u001b[0;34m\u001b[0m\u001b[0;34m\u001b[0m\u001b[0;34m\u001b[0m\u001b[0m\n",
            "\u001b[0;32m/usr/local/lib/python3.7/dist-packages/torch/nn/modules/module.py\u001b[0m in \u001b[0;36m_call_impl\u001b[0;34m(self, *input, **kwargs)\u001b[0m\n\u001b[1;32m   1100\u001b[0m         if not (self._backward_hooks or self._forward_hooks or self._forward_pre_hooks or _global_backward_hooks\n\u001b[1;32m   1101\u001b[0m                 or _global_forward_hooks or _global_forward_pre_hooks):\n\u001b[0;32m-> 1102\u001b[0;31m             \u001b[0;32mreturn\u001b[0m \u001b[0mforward_call\u001b[0m\u001b[0;34m(\u001b[0m\u001b[0;34m*\u001b[0m\u001b[0minput\u001b[0m\u001b[0;34m,\u001b[0m \u001b[0;34m**\u001b[0m\u001b[0mkwargs\u001b[0m\u001b[0;34m)\u001b[0m\u001b[0;34m\u001b[0m\u001b[0;34m\u001b[0m\u001b[0m\n\u001b[0m\u001b[1;32m   1103\u001b[0m         \u001b[0;31m# Do not call functions when jit is used\u001b[0m\u001b[0;34m\u001b[0m\u001b[0;34m\u001b[0m\u001b[0;34m\u001b[0m\u001b[0m\n\u001b[1;32m   1104\u001b[0m         \u001b[0mfull_backward_hooks\u001b[0m\u001b[0;34m,\u001b[0m \u001b[0mnon_full_backward_hooks\u001b[0m \u001b[0;34m=\u001b[0m \u001b[0;34m[\u001b[0m\u001b[0;34m]\u001b[0m\u001b[0;34m,\u001b[0m \u001b[0;34m[\u001b[0m\u001b[0;34m]\u001b[0m\u001b[0;34m\u001b[0m\u001b[0;34m\u001b[0m\u001b[0m\n",
            "\u001b[0;32m<ipython-input-8-f4fa3202ee55>\u001b[0m in \u001b[0;36mforward\u001b[0;34m(self, x)\u001b[0m\n\u001b[1;32m     30\u001b[0m                         \u001b[0;31m# pass the output from the previous layer through the second\u001b[0m\u001b[0;34m\u001b[0m\u001b[0;34m\u001b[0m\u001b[0;34m\u001b[0m\u001b[0m\n\u001b[1;32m     31\u001b[0m                         \u001b[0;31m# set of CONV => RELU => POOL layers\u001b[0m\u001b[0;34m\u001b[0m\u001b[0;34m\u001b[0m\u001b[0;34m\u001b[0m\u001b[0m\n\u001b[0;32m---> 32\u001b[0;31m                         \u001b[0mx\u001b[0m \u001b[0;34m=\u001b[0m \u001b[0mself\u001b[0m\u001b[0;34m.\u001b[0m\u001b[0mconv2\u001b[0m\u001b[0;34m(\u001b[0m\u001b[0mx\u001b[0m\u001b[0;34m)\u001b[0m\u001b[0;34m\u001b[0m\u001b[0;34m\u001b[0m\u001b[0m\n\u001b[0m\u001b[1;32m     33\u001b[0m                         \u001b[0mx\u001b[0m \u001b[0;34m=\u001b[0m \u001b[0mself\u001b[0m\u001b[0;34m.\u001b[0m\u001b[0mrelu2\u001b[0m\u001b[0;34m(\u001b[0m\u001b[0mx\u001b[0m\u001b[0;34m)\u001b[0m\u001b[0;34m\u001b[0m\u001b[0;34m\u001b[0m\u001b[0m\n\u001b[1;32m     34\u001b[0m                         \u001b[0;31m#x = self.maxpool2(x)\u001b[0m\u001b[0;34m\u001b[0m\u001b[0;34m\u001b[0m\u001b[0;34m\u001b[0m\u001b[0m\n",
            "\u001b[0;32m/usr/local/lib/python3.7/dist-packages/torch/nn/modules/module.py\u001b[0m in \u001b[0;36m_call_impl\u001b[0;34m(self, *input, **kwargs)\u001b[0m\n\u001b[1;32m   1100\u001b[0m         if not (self._backward_hooks or self._forward_hooks or self._forward_pre_hooks or _global_backward_hooks\n\u001b[1;32m   1101\u001b[0m                 or _global_forward_hooks or _global_forward_pre_hooks):\n\u001b[0;32m-> 1102\u001b[0;31m             \u001b[0;32mreturn\u001b[0m \u001b[0mforward_call\u001b[0m\u001b[0;34m(\u001b[0m\u001b[0;34m*\u001b[0m\u001b[0minput\u001b[0m\u001b[0;34m,\u001b[0m \u001b[0;34m**\u001b[0m\u001b[0mkwargs\u001b[0m\u001b[0;34m)\u001b[0m\u001b[0;34m\u001b[0m\u001b[0;34m\u001b[0m\u001b[0m\n\u001b[0m\u001b[1;32m   1103\u001b[0m         \u001b[0;31m# Do not call functions when jit is used\u001b[0m\u001b[0;34m\u001b[0m\u001b[0;34m\u001b[0m\u001b[0;34m\u001b[0m\u001b[0m\n\u001b[1;32m   1104\u001b[0m         \u001b[0mfull_backward_hooks\u001b[0m\u001b[0;34m,\u001b[0m \u001b[0mnon_full_backward_hooks\u001b[0m \u001b[0;34m=\u001b[0m \u001b[0;34m[\u001b[0m\u001b[0;34m]\u001b[0m\u001b[0;34m,\u001b[0m \u001b[0;34m[\u001b[0m\u001b[0;34m]\u001b[0m\u001b[0;34m\u001b[0m\u001b[0;34m\u001b[0m\u001b[0m\n",
            "\u001b[0;32m/usr/local/lib/python3.7/dist-packages/torch/nn/modules/conv.py\u001b[0m in \u001b[0;36mforward\u001b[0;34m(self, input)\u001b[0m\n\u001b[1;32m    444\u001b[0m \u001b[0;34m\u001b[0m\u001b[0m\n\u001b[1;32m    445\u001b[0m     \u001b[0;32mdef\u001b[0m \u001b[0mforward\u001b[0m\u001b[0;34m(\u001b[0m\u001b[0mself\u001b[0m\u001b[0;34m,\u001b[0m \u001b[0minput\u001b[0m\u001b[0;34m:\u001b[0m \u001b[0mTensor\u001b[0m\u001b[0;34m)\u001b[0m \u001b[0;34m->\u001b[0m \u001b[0mTensor\u001b[0m\u001b[0;34m:\u001b[0m\u001b[0;34m\u001b[0m\u001b[0;34m\u001b[0m\u001b[0m\n\u001b[0;32m--> 446\u001b[0;31m         \u001b[0;32mreturn\u001b[0m \u001b[0mself\u001b[0m\u001b[0;34m.\u001b[0m\u001b[0m_conv_forward\u001b[0m\u001b[0;34m(\u001b[0m\u001b[0minput\u001b[0m\u001b[0;34m,\u001b[0m \u001b[0mself\u001b[0m\u001b[0;34m.\u001b[0m\u001b[0mweight\u001b[0m\u001b[0;34m,\u001b[0m \u001b[0mself\u001b[0m\u001b[0;34m.\u001b[0m\u001b[0mbias\u001b[0m\u001b[0;34m)\u001b[0m\u001b[0;34m\u001b[0m\u001b[0;34m\u001b[0m\u001b[0m\n\u001b[0m\u001b[1;32m    447\u001b[0m \u001b[0;34m\u001b[0m\u001b[0m\n\u001b[1;32m    448\u001b[0m \u001b[0;32mclass\u001b[0m \u001b[0mConv3d\u001b[0m\u001b[0;34m(\u001b[0m\u001b[0m_ConvNd\u001b[0m\u001b[0;34m)\u001b[0m\u001b[0;34m:\u001b[0m\u001b[0;34m\u001b[0m\u001b[0;34m\u001b[0m\u001b[0m\n",
            "\u001b[0;32m/usr/local/lib/python3.7/dist-packages/torch/nn/modules/conv.py\u001b[0m in \u001b[0;36m_conv_forward\u001b[0;34m(self, input, weight, bias)\u001b[0m\n\u001b[1;32m    441\u001b[0m                             _pair(0), self.dilation, self.groups)\n\u001b[1;32m    442\u001b[0m         return F.conv2d(input, weight, bias, self.stride,\n\u001b[0;32m--> 443\u001b[0;31m                         self.padding, self.dilation, self.groups)\n\u001b[0m\u001b[1;32m    444\u001b[0m \u001b[0;34m\u001b[0m\u001b[0m\n\u001b[1;32m    445\u001b[0m     \u001b[0;32mdef\u001b[0m \u001b[0mforward\u001b[0m\u001b[0;34m(\u001b[0m\u001b[0mself\u001b[0m\u001b[0;34m,\u001b[0m \u001b[0minput\u001b[0m\u001b[0;34m:\u001b[0m \u001b[0mTensor\u001b[0m\u001b[0;34m)\u001b[0m \u001b[0;34m->\u001b[0m \u001b[0mTensor\u001b[0m\u001b[0;34m:\u001b[0m\u001b[0;34m\u001b[0m\u001b[0;34m\u001b[0m\u001b[0m\n",
            "\u001b[0;31mKeyboardInterrupt\u001b[0m: "
          ]
        }
      ]
    },
    {
      "cell_type": "code",
      "source": [
        "pred1=0\n",
        "pred2=0\n",
        "for i,pred in enumerate(pred_two_frame):\n",
        "  if i%2==0:\n",
        "    pred1+=pred\n",
        "  else:\n",
        "    pred2+=pred\n",
        "pred1=pred1/5\n",
        "pred2=pred2/5\n",
        "print(pred1,pred2)\n"
      ],
      "metadata": {
        "colab": {
          "base_uri": "https://localhost:8080/"
        },
        "id": "-ka97h35vdF3",
        "outputId": "54e1ff4f-16fc-451b-8515-5e5a6b59d45f"
      },
      "execution_count": null,
      "outputs": [
        {
          "output_type": "stream",
          "name": "stdout",
          "text": [
            "tensor([0.8102]) tensor([1.5646])\n"
          ]
        }
      ]
    },
    {
      "cell_type": "code",
      "source": [
        "train_loss=[0 for i in range(EPOCHS)]\n",
        "std_train=[0 for i in range(EPOCHS)]\n",
        "for epoch in range(EPOCHS):\n",
        "  for run in range(5):\n",
        "    train_loss[epoch]+=H[\"train_loss\"][epoch][run]\n",
        "  train_loss[epoch]=train_loss[epoch]/5\n",
        "for epoch in range(EPOCHS):\n",
        "  for run in range(5):\n",
        "    std_train[epoch]+=(H[\"train_loss\"][epoch][run]-train_loss[epoch])**2\n",
        "  std_train[epoch]=std_train[epoch]/5\n",
        "\n",
        "valid_loss=[0 for i in range(EPOCHS)]\n",
        "std_valid=[0 for i in range(EPOCHS)]\n",
        "for epoch in range(EPOCHS):\n",
        "  for run in range(5):\n",
        "    valid_loss[epoch]+=H[\"val_loss\"][epoch][run]\n",
        "  valid_loss[epoch]=valid_loss[epoch]/5\n",
        "for epoch in range(EPOCHS):\n",
        "  for run in range(5):\n",
        "    std_valid[epoch]+=(H[\"val_loss\"][epoch][run]-valid_loss[epoch])**2\n",
        "  std_valid[epoch]=std_valid[epoch]/5\n",
        "\n"
      ],
      "metadata": {
        "id": "ephGr-lSwPo1"
      },
      "execution_count": null,
      "outputs": []
    },
    {
      "cell_type": "code",
      "source": [
        "# plot the training loss and accuracy\n",
        "plt.style.use(\"ggplot\")\n",
        "plt.figure()\n",
        "#plt.plot(H[\"train_loss\"], label=\"train_loss\")\n",
        "plt.plot(train_loss, label=\"train_loss\")\n",
        "#plt.plot(H[\"val_loss\"], label=\"val_loss\")\n",
        "plt.plot(valid_loss, label=\"val_loss\")\n",
        "plt.title(\"Training Loss and Accuracy on Dataset\")\n",
        "plt.xlabel(\"Epoch #\")\n",
        "plt.ylabel(\"Loss/Accuracy\")\n",
        "plt.legend(loc=\"lower left\")\n",
        "plt.show()"
      ],
      "metadata": {
        "colab": {
          "base_uri": "https://localhost:8080/",
          "height": 299
        },
        "id": "SCHC8xEf7b8N",
        "outputId": "d75059f7-e139-4404-82eb-0096ff96fe41"
      },
      "execution_count": null,
      "outputs": [
        {
          "output_type": "display_data",
          "data": {
            "text/plain": [
              "<Figure size 432x288 with 1 Axes>"
            ],
            "image/png": "[encoded data removed]"
          },
          "metadata": {}
        }
      ]
    },
    {
      "cell_type": "code",
      "source": [
        "mean_test_loss=0\n",
        "for i in range(len(test_loss)):\n",
        "  mean_test_loss+=test_loss[i]\n",
        "mean_test_loss=mean_test_loss/len(test_loss)\n",
        "\n",
        "std_test_loss=0\n",
        "for i in range(len(test_loss)):\n",
        "  std_test_loss+=(test_loss[i]-mean_test_loss)**2\n",
        "std_test_loss=std_test_loss/len(test_loss)\n",
        "\n",
        "print('test loss=',mean_test_loss.tolist(),'+-',std_test_loss.tolist())\n"
      ],
      "metadata": {
        "colab": {
          "base_uri": "https://localhost:8080/"
        },
        "id": "Ex21Jz10DWmp",
        "outputId": "811c3853-cf05-4df5-be1b-c75478d59e15"
      },
      "execution_count": null,
      "outputs": [
        {
          "output_type": "stream",
          "name": "stdout",
          "text": [
            "test loss={0:.4f} 0.1277872771024704 +- 0.0008195413975045085\n"
          ]
        }
      ]
    }
  ]
}